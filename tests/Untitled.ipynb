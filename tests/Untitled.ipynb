{
 "cells": [
  {
   "cell_type": "markdown",
   "id": "536e96c4-b3b0-4c08-b8c2-e675cef5bb1e",
   "metadata": {},
   "source": [
    "## test comparator"
   ]
  },
  {
   "cell_type": "code",
   "execution_count": 5,
   "id": "bdce704a-09d2-475d-8c7d-e0b76033cd4f",
   "metadata": {},
   "outputs": [],
   "source": [
    "from ase.io import read\n",
    "from mcdft.structure_comparator import StructureComparator\n",
    "from mcdft.structure_generator import swap_atoms"
   ]
  },
  {
   "cell_type": "code",
   "execution_count": 3,
   "id": "4fce8036-4034-4ad0-b4f4-e9d4a93aae21",
   "metadata": {},
   "outputs": [],
   "source": [
    "stack=StructureComparator(5)"
   ]
  },
  {
   "cell_type": "code",
   "execution_count": 7,
   "id": "2b34b142-96b5-41b1-9d8f-1194addecbbe",
   "metadata": {},
   "outputs": [],
   "source": [
    "atoms1=read('POSCAR_AuCuAl')\n",
    "atoms2=swap_atoms(atoms1.copy())\n",
    "atoms3=swap_atoms(atoms1.copy())\n",
    "atoms4=swap_atoms(atoms1.copy())\n",
    "atoms5=swap_atoms(atoms1.copy())\n",
    "atoms6=swap_atoms(atoms1.copy())"
   ]
  },
  {
   "cell_type": "code",
   "execution_count": null,
   "id": "fc44ac5e-a786-4891-b186-d14c427d073d",
   "metadata": {},
   "outputs": [],
   "source": [
    "stack.push()"
   ]
  }
 ],
 "metadata": {
  "kernelspec": {
   "display_name": "Python 3 (ipykernel)",
   "language": "python",
   "name": "python3"
  },
  "language_info": {
   "codemirror_mode": {
    "name": "ipython",
    "version": 3
   },
   "file_extension": ".py",
   "mimetype": "text/x-python",
   "name": "python",
   "nbconvert_exporter": "python",
   "pygments_lexer": "ipython3",
   "version": "3.10.1"
  }
 },
 "nbformat": 4,
 "nbformat_minor": 5
}
