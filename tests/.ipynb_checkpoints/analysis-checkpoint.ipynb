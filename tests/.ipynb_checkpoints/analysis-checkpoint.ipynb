{
 "cells": [
  {
   "cell_type": "code",
   "execution_count": 1,
   "id": "65ee3a95-9b94-4aee-9455-4eb17141f6bd",
   "metadata": {},
   "outputs": [],
   "source": [
    "from ase.io import read\n",
    "import numpy as np\n",
    "import matplotlib.pyplot as plt"
   ]
  },
  {
   "cell_type": "code",
   "execution_count": 2,
   "id": "f75a0c76-5e2e-4e68-a966-d22ca3c2dfb7",
   "metadata": {},
   "outputs": [],
   "source": [
    "def get_energy_from_trajectory(trajectory):\n",
    "    energies=[]\n",
    "    for atoms in trajectory:\n",
    "        energies.append(atoms.get_potential_energies())\n",
    "\n",
    "    return np.array(energies)"
   ]
  },
  {
   "cell_type": "code",
   "execution_count": 3,
   "id": "b809590a-4218-4bbf-b95e-be0752551cde",
   "metadata": {},
   "outputs": [
    {
     "ename": "NameError",
     "evalue": "name 'trajectory' is not defined",
     "output_type": "error",
     "traceback": [
      "\u001b[0;31m---------------------------------------------------------------------------\u001b[0m",
      "\u001b[0;31mNameError\u001b[0m                                 Traceback (most recent call last)",
      "Cell \u001b[0;32mIn[3], line 2\u001b[0m\n\u001b[1;32m      1\u001b[0m chain_0\u001b[38;5;241m=\u001b[39mread(\u001b[38;5;124m'\u001b[39m\u001b[38;5;124mAuCuAl_no_compare.traj\u001b[39m\u001b[38;5;124m'\u001b[39m,index\u001b[38;5;241m=\u001b[39m\u001b[38;5;124m'\u001b[39m\u001b[38;5;124m:\u001b[39m\u001b[38;5;124m'\u001b[39m)\n\u001b[0;32m----> 2\u001b[0m chain_0_energies\u001b[38;5;241m=\u001b[39m\u001b[43mget_energy_from_trajectory\u001b[49m\u001b[43m(\u001b[49m\u001b[43mchain_0\u001b[49m\u001b[43m)\u001b[49m\n\u001b[1;32m      3\u001b[0m chain_10\u001b[38;5;241m=\u001b[39mread(\u001b[38;5;124m'\u001b[39m\u001b[38;5;124mAuCuAl_compare_10.traj\u001b[39m\u001b[38;5;124m'\u001b[39m,index\u001b[38;5;241m=\u001b[39m\u001b[38;5;124m'\u001b[39m\u001b[38;5;124m:\u001b[39m\u001b[38;5;124m'\u001b[39m)\n\u001b[1;32m      4\u001b[0m chain_10_energies\u001b[38;5;241m=\u001b[39mget_energy_from_trajectory(chain_10)\n",
      "Cell \u001b[0;32mIn[2], line 3\u001b[0m, in \u001b[0;36mget_energy_from_trajectory\u001b[0;34m(trajectroy)\u001b[0m\n\u001b[1;32m      1\u001b[0m \u001b[38;5;28;01mdef\u001b[39;00m \u001b[38;5;21mget_energy_from_trajectory\u001b[39m(trajectroy):\n\u001b[1;32m      2\u001b[0m     energies\u001b[38;5;241m=\u001b[39m[]\n\u001b[0;32m----> 3\u001b[0m     \u001b[38;5;28;01mfor\u001b[39;00m atoms \u001b[38;5;129;01min\u001b[39;00m \u001b[43mtrajectory\u001b[49m:\n\u001b[1;32m      4\u001b[0m         energies\u001b[38;5;241m.\u001b[39mappend(atoms\u001b[38;5;241m.\u001b[39mget_potential_energies())\n\u001b[1;32m      6\u001b[0m     \u001b[38;5;28;01mreturn\u001b[39;00m np\u001b[38;5;241m.\u001b[39marray(energies)\n",
      "\u001b[0;31mNameError\u001b[0m: name 'trajectory' is not defined"
     ]
    }
   ],
   "source": [
    "chain_0=read('AuCuAl_no_compare.traj',index=':')\n",
    "chain_0_energies=get_energy_from_trajectory(chain_0)\n",
    "chain_10=read('AuCuAl_compare_10.traj',index=':')\n",
    "chain_10_energies=get_energy_from_trajectory(chain_10)\n",
    "chain_50=read('AuCuAl_compare_50.traj',index=':')\n",
    "chain_50_energies=get_energy_from_trajectory(chain_50)"
   ]
  },
  {
   "cell_type": "code",
   "execution_count": null,
   "id": "3110050b-a404-4b48-b323-2dd9a05d78eb",
   "metadata": {},
   "outputs": [],
   "source": []
  }
 ],
 "metadata": {
  "kernelspec": {
   "display_name": "Python 3 (ipykernel)",
   "language": "python",
   "name": "python3"
  },
  "language_info": {
   "codemirror_mode": {
    "name": "ipython",
    "version": 3
   },
   "file_extension": ".py",
   "mimetype": "text/x-python",
   "name": "python",
   "nbconvert_exporter": "python",
   "pygments_lexer": "ipython3",
   "version": "3.10.1"
  }
 },
 "nbformat": 4,
 "nbformat_minor": 5
}
